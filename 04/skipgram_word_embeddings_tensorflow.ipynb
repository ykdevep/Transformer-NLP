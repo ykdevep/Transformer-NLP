{
 "cells": [
  {
   "cell_type": "markdown",
   "id": "cd988128",
   "metadata": {},
   "source": [
    "Celda 1: Importación y preparación de datos"
   ]
  },
  {
   "cell_type": "code",
   "execution_count": 1,
   "id": "15beabf2",
   "metadata": {},
   "outputs": [],
   "source": [
    "import tensorflow as tf\n",
    "from tensorflow.keras import layers, Model\n",
    "import numpy as np\n",
    "import pandas as pd\n",
    "import matplotlib.pyplot as plt\n",
    "from sklearn.manifold import TSNE\n",
    "from sklearn.metrics.pairwise import cosine_similarity\n",
    "import os\n",
    "\n",
    "# Preparar texto y vocabulario\n",
    "sentence = \"The black cat sat on the couch and the brown dog slept on the rug\".lower().split()\n",
    "vocab = sorted(set(sentence))\n",
    "word2idx = {w: i for i, w in enumerate(vocab)}\n",
    "idx2word = {i: w for w, i in word2idx.items()}\n",
    "vocab_size = len(vocab)\n",
    "\n",
    "def generate_skipgram_data(words, window_size=2):\n",
    "    pairs = []\n",
    "    for idx, word in enumerate(words):\n",
    "        for j in range(-window_size, window_size + 1):\n",
    "            if j == 0 or idx + j < 0 or idx + j >= len(words):\n",
    "                continue\n",
    "            pairs.append((word, words[idx + j]))\n",
    "    return [(word2idx[t], word2idx[c]) for t, c in pairs]\n",
    "\n",
    "training_pairs = generate_skipgram_data(sentence)\n",
    "targets, contexts = zip(*training_pairs)\n",
    "targets = np.array(targets)\n",
    "contexts = np.array(contexts)\n"
   ]
  },
  {
   "cell_type": "markdown",
   "id": "04d01002",
   "metadata": {},
   "source": [
    "Celda 2: Definición del modelo Skip-Gram"
   ]
  },
  {
   "cell_type": "code",
   "execution_count": 5,
   "id": "21410174",
   "metadata": {},
   "outputs": [],
   "source": [
    "class SkipGramModel(Model):\n",
    "    def __init__(self, vocab_size, embedding_dim):\n",
    "        super(SkipGramModel, self).__init__()\n",
    "        self.embedding = layers.Embedding(vocab_size, embedding_dim, input_length=1)\n",
    "        self.output_layer = layers.Dense(vocab_size, activation='softmax')\n",
    "\n",
    "    def call(self, x):\n",
    "        x = self.embedding(x)\n",
    "        x = tf.squeeze(x, axis=1)\n",
    "        return self.output_layer(x)\n",
    "\n",
    "embedding_dim = 15\n",
    "model = SkipGramModel(vocab_size, embedding_dim)\n",
    "model.compile(optimizer='adam', loss='sparse_categorical_crossentropy')\n"
   ]
  },
  {
   "cell_type": "markdown",
   "id": "ac3facb0",
   "metadata": {},
   "source": [
    "Celda 3: Entrenamiento del modelo"
   ]
  },
  {
   "cell_type": "code",
   "execution_count": 6,
   "id": "3b0fe377",
   "metadata": {},
   "outputs": [
    {
     "name": "stdout",
     "output_type": "stream",
     "text": [
      "Modelo entrenado\n"
     ]
    }
   ],
   "source": [
    "# Reshape para que cada target sea de tamaño (batch_size, 1)\n",
    "targets = targets.reshape(-1, 1)\n",
    "model.fit(targets, contexts, epochs=100, verbose=0)\n",
    "print(\"Modelo entrenado\")\n"
   ]
  },
  {
   "cell_type": "markdown",
   "id": "266888f3",
   "metadata": {},
   "source": [
    "Celda 4: Guardar embeddings en CSV"
   ]
  },
  {
   "cell_type": "code",
   "execution_count": 7,
   "id": "426d5084",
   "metadata": {},
   "outputs": [
    {
     "name": "stdout",
     "output_type": "stream",
     "text": [
      "Embeddings guardados en 'word_embeddings.csv'\n"
     ]
    }
   ],
   "source": [
    "embeddings = model.embedding.get_weights()[0]\n",
    "df_embeddings = pd.DataFrame(embeddings, index=vocab)\n",
    "df_embeddings.to_csv(\"word_embeddings.csv\")\n",
    "print(\"Embeddings guardados en 'word_embeddings.csv'\")\n"
   ]
  },
  {
   "cell_type": "markdown",
   "id": "f503ca42",
   "metadata": {},
   "source": [
    "Celda 5: Calcular similitud entre palabras"
   ]
  },
  {
   "cell_type": "code",
   "execution_count": 10,
   "id": "3431ef15",
   "metadata": {},
   "outputs": [
    {
     "name": "stdout",
     "output_type": "stream",
     "text": [
      "\n",
      "🔍 Similitud de coseno entre algunas palabras:\n",
      "\n",
      "Sim('black', 'brown') = -0.0569\n",
      "Sim('black', 'cat') = 0.5269\n",
      "Sim('black', 'dog') = -0.1365\n",
      "Sim('black', 'rug') = 0.4662\n",
      "Sim('black', 'couch') = 0.4481\n",
      "Sim('brown', 'cat') = -0.5556\n",
      "Sim('brown', 'dog') = -0.1787\n",
      "Sim('brown', 'rug') = -0.3944\n",
      "Sim('brown', 'couch') = -0.0755\n",
      "Sim('cat', 'dog') = 0.1035\n",
      "Sim('cat', 'rug') = 0.6310\n",
      "Sim('cat', 'couch') = 0.5238\n",
      "Sim('dog', 'rug') = 0.6660\n",
      "Sim('dog', 'couch') = 0.5444\n",
      "Sim('rug', 'couch') = 0.9046\n"
     ]
    }
   ],
   "source": [
    "similarity_matrix = cosine_similarity(embeddings)\n",
    "print(\"\\n🔍 Similitud de coseno entre algunas palabras:\\n\")\n",
    "\n",
    "#words_to_compare = [\"black\", \"brown\"]\n",
    "#words_to_compare = [\"black\", \"one\"]\n",
    "words_to_compare = [\"black\", \"brown\", \"cat\", \"dog\", \"rug\", \"couch\"]\n",
    "for i, word1 in enumerate(words_to_compare):\n",
    "    for word2 in words_to_compare[i+1:]:\n",
    "        sim = cosine_similarity(\n",
    "            [embeddings[word2idx[word1]]],\n",
    "            [embeddings[word2idx[word2]]]\n",
    "        )[0][0]\n",
    "        print(f\"Sim('{word1}', '{word2}') = {sim:.4f}\")\n"
   ]
  },
  {
   "cell_type": "markdown",
   "id": "58fbcaf4",
   "metadata": {},
   "source": [
    " Celda 6: Guardar el modelo"
   ]
  },
  {
   "cell_type": "code",
   "execution_count": 11,
   "id": "562ec8b1",
   "metadata": {},
   "outputs": [
    {
     "name": "stdout",
     "output_type": "stream",
     "text": [
      "INFO:tensorflow:Assets written to: skipgram_model\\assets\n",
      "\n",
      " Modelo guardado en: 'skipgram_model'\n"
     ]
    }
   ],
   "source": [
    "model_save_path = \"skipgram_model\"\n",
    "model.save(model_save_path)\n",
    "print(f\"\\n Modelo guardado en: '{model_save_path}'\")\n"
   ]
  },
  {
   "cell_type": "markdown",
   "id": "84656df2",
   "metadata": {},
   "source": [
    " Celda 7: Cargar el modelo e inferir embeddings"
   ]
  },
  {
   "cell_type": "code",
   "execution_count": 12,
   "id": "ee0db0bc",
   "metadata": {},
   "outputs": [
    {
     "name": "stdout",
     "output_type": "stream",
     "text": [
      "\n",
      " Embedding de 'black' desde modelo guardado:\n",
      "[-0.18853325  0.01204001  0.10546672  0.00733518 -0.03893225  0.11211638\n",
      " -0.20876372 -0.14854692 -0.13516533  0.08624694  0.07322759  0.14403193\n",
      " -0.17268635  0.01043693  0.16071762]\n",
      "\n",
      " Embedding de 'brown' desde modelo guardado:\n",
      "[ 0.02440731 -0.18290669  0.04255658  0.18908665  0.06617628  0.06464063\n",
      "  0.06916575  0.01157813  0.01317491  0.1323464  -0.08307938 -0.08484653\n",
      " -0.06567439 -0.00605046  0.00142913]\n"
     ]
    }
   ],
   "source": [
    "loaded_model = tf.keras.models.load_model(model_save_path)\n",
    "\n",
    "def get_word_embedding(word):\n",
    "    idx = word2idx[word]\n",
    "    embedding = loaded_model.embedding(tf.constant([idx]))\n",
    "    return embedding.numpy()[0]\n",
    "\n",
    "black_vector = get_word_embedding(\"black\")\n",
    "brown_vector = get_word_embedding(\"brown\")\n",
    "\n",
    "print(f\"\\n Embedding de 'black' desde modelo guardado:\\n{black_vector}\")\n",
    "print(f\"\\n Embedding de 'brown' desde modelo guardado:\\n{brown_vector}\")\n",
    "\n"
   ]
  },
  {
   "cell_type": "markdown",
   "id": "3d39c5ad",
   "metadata": {},
   "source": [
    "Celda 8: Visualización de embeddings con t-SNE"
   ]
  },
  {
   "cell_type": "code",
   "execution_count": 13,
   "id": "5c5dbad0",
   "metadata": {},
   "outputs": [
    {
     "name": "stderr",
     "output_type": "stream",
     "text": [
      "C:\\Users\\eacar\\AppData\\Local\\Packages\\PythonSoftwareFoundation.Python.3.10_qbz5n2kfra8p0\\LocalCache\\local-packages\\Python310\\site-packages\\sklearn\\manifold\\_t_sne.py:800: FutureWarning: The default initialization in TSNE will change from 'random' to 'pca' in 1.2.\n",
      "  warnings.warn(\n",
      "C:\\Users\\eacar\\AppData\\Local\\Packages\\PythonSoftwareFoundation.Python.3.10_qbz5n2kfra8p0\\LocalCache\\local-packages\\Python310\\site-packages\\sklearn\\manifold\\_t_sne.py:810: FutureWarning: The default learning rate in TSNE will change from 200.0 to 'auto' in 1.2.\n",
      "  warnings.warn(\n"
     ]
    },
    {
     "data": {
      "image/png": "[encoded data removed]",
      "text/plain": [
       "<Figure size 800x600 with 1 Axes>"
      ]
     },
     "metadata": {},
     "output_type": "display_data"
    }
   ],
   "source": [
    "tsne = TSNE(n_components=2, random_state=42, perplexity=3)\n",
    "embeddings_2d = tsne.fit_transform(embeddings)\n",
    "\n",
    "plt.figure(figsize=(8, 6))\n",
    "for i, label in enumerate(vocab):\n",
    "    x, y = embeddings_2d[i]\n",
    "    plt.scatter(x, y)\n",
    "    plt.annotate(label, (x, y), textcoords=\"offset points\", xytext=(5, 2), ha='right', fontsize=12)\n",
    "\n",
    "plt.title(\"Visualización 2D de embeddings (skip-gram)\")\n",
    "plt.grid(True)\n",
    "plt.show()\n"
   ]
  },
  {
   "cell_type": "code",
   "execution_count": 14,
   "id": "1cc383c5",
   "metadata": {},
   "outputs": [
    {
     "name": "stdout",
     "output_type": "stream",
     "text": [
      "Model: \"skip_gram_model_1\"\n",
      "_________________________________________________________________\n",
      " Layer (type)                Output Shape              Param #   \n",
      "=================================================================\n",
      " embedding_1 (Embedding)     multiple                  165       \n",
      "                                                                 \n",
      " dense_1 (Dense)             multiple                  176       \n",
      "                                                                 \n",
      "=================================================================\n",
      "Total params: 341\n",
      "Trainable params: 341\n",
      "Non-trainable params: 0\n",
      "_________________________________________________________________\n"
     ]
    }
   ],
   "source": [
    "loaded_model.summary()"
   ]
  }
 ],
 "metadata": {
  "kernelspec": {
   "display_name": "Python 3",
   "language": "python",
   "name": "python3"
  },
  "language_info": {
   "codemirror_mode": {
    "name": "ipython",
    "version": 3
   },
   "file_extension": ".py",
   "mimetype": "text/x-python",
   "name": "python",
   "nbconvert_exporter": "python",
   "pygments_lexer": "ipython3",
   "version": "3.10.11"
  }
 },
 "nbformat": 4,
 "nbformat_minor": 5
}
